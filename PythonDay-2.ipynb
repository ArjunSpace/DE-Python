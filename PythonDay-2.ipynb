{
 "cells": [
  {
   "cell_type": "code",
   "execution_count": 1,
   "id": "2466b3e6",
   "metadata": {},
   "outputs": [
    {
     "name": "stdout",
     "output_type": "stream",
     "text": [
      "enter age :25\n"
     ]
    }
   ],
   "source": [
    "age = input(\"enter age :\")"
   ]
  },
  {
   "cell_type": "code",
   "execution_count": 2,
   "id": "6ab9a054",
   "metadata": {},
   "outputs": [
    {
     "name": "stdout",
     "output_type": "stream",
     "text": [
      "25\n"
     ]
    }
   ],
   "source": [
    "print(age)"
   ]
  },
  {
   "cell_type": "code",
   "execution_count": 3,
   "id": "e4138594",
   "metadata": {},
   "outputs": [
    {
     "data": {
      "text/plain": [
       "str"
      ]
     },
     "execution_count": 3,
     "metadata": {},
     "output_type": "execute_result"
    }
   ],
   "source": [
    "type(age)"
   ]
  },
  {
   "cell_type": "code",
   "execution_count": 6,
   "id": "4094f2d4",
   "metadata": {},
   "outputs": [
    {
     "ename": "TypeError",
     "evalue": "can only concatenate str (not \"int\") to str",
     "output_type": "error",
     "traceback": [
      "\u001b[1;31m---------------------------------------------------------------------------\u001b[0m",
      "\u001b[1;31mTypeError\u001b[0m                                 Traceback (most recent call last)",
      "Cell \u001b[1;32mIn[6], line 1\u001b[0m\n\u001b[1;32m----> 1\u001b[0m new_age \u001b[38;5;241m=\u001b[39m \u001b[43mage\u001b[49m\u001b[43m \u001b[49m\u001b[38;5;241;43m+\u001b[39;49m\u001b[43m \u001b[49m\u001b[38;5;241;43m5\u001b[39;49m\n",
      "\u001b[1;31mTypeError\u001b[0m: can only concatenate str (not \"int\") to str"
     ]
    }
   ],
   "source": [
    "new_age = age + 5"
   ]
  },
  {
   "cell_type": "code",
   "execution_count": 7,
   "id": "9e6cefb1",
   "metadata": {},
   "outputs": [],
   "source": [
    "new_age = age + \"5\"  # 25+5 = 30"
   ]
  },
  {
   "cell_type": "code",
   "execution_count": 8,
   "id": "20776de8",
   "metadata": {},
   "outputs": [
    {
     "data": {
      "text/plain": [
       "'255'"
      ]
     },
     "execution_count": 8,
     "metadata": {},
     "output_type": "execute_result"
    }
   ],
   "source": [
    "new_age"
   ]
  },
  {
   "cell_type": "code",
   "execution_count": 10,
   "id": "7be13630",
   "metadata": {},
   "outputs": [
    {
     "name": "stdout",
     "output_type": "stream",
     "text": [
      "enter age :25\n"
     ]
    }
   ],
   "source": [
    "age1 = int(input(\"enter age :\"))"
   ]
  },
  {
   "cell_type": "code",
   "execution_count": 11,
   "id": "fef9f2bc",
   "metadata": {},
   "outputs": [
    {
     "data": {
      "text/plain": [
       "25"
      ]
     },
     "execution_count": 11,
     "metadata": {},
     "output_type": "execute_result"
    }
   ],
   "source": [
    "age1"
   ]
  },
  {
   "cell_type": "code",
   "execution_count": 12,
   "id": "ba1b061c",
   "metadata": {},
   "outputs": [
    {
     "data": {
      "text/plain": [
       "int"
      ]
     },
     "execution_count": 12,
     "metadata": {},
     "output_type": "execute_result"
    }
   ],
   "source": [
    "type(age1)"
   ]
  },
  {
   "cell_type": "code",
   "execution_count": 13,
   "id": "a01c6b40",
   "metadata": {},
   "outputs": [],
   "source": [
    "new_age = age1 + 5"
   ]
  },
  {
   "cell_type": "code",
   "execution_count": 14,
   "id": "0ef3a8ba",
   "metadata": {},
   "outputs": [
    {
     "data": {
      "text/plain": [
       "30"
      ]
     },
     "execution_count": 14,
     "metadata": {},
     "output_type": "execute_result"
    }
   ],
   "source": [
    "new_age\n"
   ]
  },
  {
   "cell_type": "code",
   "execution_count": 15,
   "id": "afc5c3e1",
   "metadata": {},
   "outputs": [],
   "source": [
    "str1 = \"Deepak\"\n",
    "str2 = \"is a good\"\n",
    "str3 = \"Developer\"\n"
   ]
  },
  {
   "cell_type": "code",
   "execution_count": 17,
   "id": "76c356de",
   "metadata": {},
   "outputs": [
    {
     "data": {
      "text/plain": [
       "'Deepakis a goodDeveloper'"
      ]
     },
     "execution_count": 17,
     "metadata": {},
     "output_type": "execute_result"
    }
   ],
   "source": [
    "# string concatination\n",
    "final_str = str1 + str2 + str3\n",
    "final_str"
   ]
  },
  {
   "cell_type": "code",
   "execution_count": 18,
   "id": "b84bb542",
   "metadata": {},
   "outputs": [
    {
     "data": {
      "text/plain": [
       "'Deepak is a good  Developer'"
      ]
     },
     "execution_count": 18,
     "metadata": {},
     "output_type": "execute_result"
    }
   ],
   "source": [
    "final_str = str1 + \" \" + str2    + \"  \" + str3\n",
    "final_str"
   ]
  },
  {
   "cell_type": "code",
   "execution_count": 20,
   "id": "bdbe28bb",
   "metadata": {},
   "outputs": [
    {
     "data": {
      "text/plain": [
       "False"
      ]
     },
     "execution_count": 20,
     "metadata": {},
     "output_type": "execute_result"
    }
   ],
   "source": [
    "age1 = 25\n",
    "age2 = 26\n",
    "age1 == age2"
   ]
  },
  {
   "cell_type": "code",
   "execution_count": 21,
   "id": "bfd127a3",
   "metadata": {},
   "outputs": [
    {
     "data": {
      "text/plain": [
       "False"
      ]
     },
     "execution_count": 21,
     "metadata": {},
     "output_type": "execute_result"
    }
   ],
   "source": [
    "str1 == str2"
   ]
  },
  {
   "cell_type": "code",
   "execution_count": 22,
   "id": "547ade28",
   "metadata": {},
   "outputs": [],
   "source": [
    "str4 = \"deepak\""
   ]
  },
  {
   "cell_type": "code",
   "execution_count": 23,
   "id": "b3a16b53",
   "metadata": {},
   "outputs": [
    {
     "data": {
      "text/plain": [
       "False"
      ]
     },
     "execution_count": 23,
     "metadata": {},
     "output_type": "execute_result"
    }
   ],
   "source": [
    "str1 == str4"
   ]
  },
  {
   "cell_type": "code",
   "execution_count": 25,
   "id": "87781aa5",
   "metadata": {},
   "outputs": [],
   "source": [
    "str5 = \"Deepak\""
   ]
  },
  {
   "cell_type": "code",
   "execution_count": 26,
   "id": "16a69590",
   "metadata": {},
   "outputs": [
    {
     "data": {
      "text/plain": [
       "True"
      ]
     },
     "execution_count": 26,
     "metadata": {},
     "output_type": "execute_result"
    }
   ],
   "source": [
    "str1 == str5"
   ]
  },
  {
   "cell_type": "code",
   "execution_count": 27,
   "id": "d37fdfcb",
   "metadata": {},
   "outputs": [
    {
     "data": {
      "text/plain": [
       "'Deepak is a good  Developer'"
      ]
     },
     "execution_count": 27,
     "metadata": {},
     "output_type": "execute_result"
    }
   ],
   "source": [
    "final_str"
   ]
  },
  {
   "cell_type": "code",
   "execution_count": 29,
   "id": "fedbba1b",
   "metadata": {},
   "outputs": [
    {
     "data": {
      "text/plain": [
       "27"
      ]
     },
     "execution_count": 29,
     "metadata": {},
     "output_type": "execute_result"
    }
   ],
   "source": [
    "# finding legth of string\n",
    "ln = len(final_str)\n",
    "ln"
   ]
  },
  {
   "cell_type": "code",
   "execution_count": 31,
   "id": "2572fe88",
   "metadata": {},
   "outputs": [
    {
     "name": "stdout",
     "output_type": "stream",
     "text": [
      "D\n",
      "i\n",
      "a\n",
      "d\n",
      "D\n",
      "p\n",
      "e\n"
     ]
    }
   ],
   "source": [
    "print(final_str[0])\n",
    "print(final_str[7])\n",
    "print(final_str[10])\n",
    "print(final_str[15])\n",
    "print(final_str[18])\n",
    "print(final_str[24])\n",
    "print(final_str[25])\n"
   ]
  },
  {
   "cell_type": "code",
   "execution_count": 32,
   "id": "e532ca3e",
   "metadata": {},
   "outputs": [
    {
     "ename": "IndexError",
     "evalue": "string index out of range",
     "output_type": "error",
     "traceback": [
      "\u001b[1;31m---------------------------------------------------------------------------\u001b[0m",
      "\u001b[1;31mIndexError\u001b[0m                                Traceback (most recent call last)",
      "Cell \u001b[1;32mIn[32], line 1\u001b[0m\n\u001b[1;32m----> 1\u001b[0m \u001b[38;5;28mprint\u001b[39m(\u001b[43mfinal_str\u001b[49m\u001b[43m[\u001b[49m\u001b[38;5;241;43m27\u001b[39;49m\u001b[43m]\u001b[49m)\n",
      "\u001b[1;31mIndexError\u001b[0m: string index out of range"
     ]
    }
   ],
   "source": [
    "print(final_str[27])"
   ]
  },
  {
   "cell_type": "code",
   "execution_count": 33,
   "id": "6f78af3e",
   "metadata": {},
   "outputs": [
    {
     "data": {
      "text/plain": [
       "'Deepak is a good  Developer'"
      ]
     },
     "execution_count": 33,
     "metadata": {},
     "output_type": "execute_result"
    }
   ],
   "source": [
    " final_str # updating string  ( Need to check)"
   ]
  },
  {
   "cell_type": "code",
   "execution_count": 34,
   "id": "bfc833be",
   "metadata": {},
   "outputs": [
    {
     "ename": "TypeError",
     "evalue": "'str' object does not support item assignment",
     "output_type": "error",
     "traceback": [
      "\u001b[1;31m---------------------------------------------------------------------------\u001b[0m",
      "\u001b[1;31mTypeError\u001b[0m                                 Traceback (most recent call last)",
      "Cell \u001b[1;32mIn[34], line 1\u001b[0m\n\u001b[1;32m----> 1\u001b[0m \u001b[43mfinal_str\u001b[49m\u001b[43m[\u001b[49m\u001b[38;5;241;43m13\u001b[39;49m\u001b[43m]\u001b[49m \u001b[38;5;241m=\u001b[39m \u001b[38;5;124m\"\u001b[39m\u001b[38;5;124mPython\u001b[39m\u001b[38;5;124m\"\u001b[39m\n\u001b[0;32m      2\u001b[0m final_str\n",
      "\u001b[1;31mTypeError\u001b[0m: 'str' object does not support item assignment"
     ]
    }
   ],
   "source": [
    "final_str[13] = \"Python\"\n",
    "final_str"
   ]
  },
  {
   "cell_type": "code",
   "execution_count": 35,
   "id": "f27b820b",
   "metadata": {},
   "outputs": [
    {
     "name": "stdout",
     "output_type": "stream",
     "text": [
      "IS A GOOD\n"
     ]
    }
   ],
   "source": [
    "#str2 = \"good\"\n",
    "#Casing of strings\n",
    "print(str2.upper())"
   ]
  },
  {
   "cell_type": "code",
   "execution_count": 37,
   "id": "64e3c964",
   "metadata": {},
   "outputs": [
    {
     "name": "stdout",
     "output_type": "stream",
     "text": [
      "deepak\n"
     ]
    }
   ],
   "source": [
    "print(str1.lower())"
   ]
  },
  {
   "cell_type": "code",
   "execution_count": 38,
   "id": "e1d5c8d7",
   "metadata": {},
   "outputs": [
    {
     "name": "stdout",
     "output_type": "stream",
     "text": [
      "abedff\n"
     ]
    }
   ],
   "source": [
    "str6 = \"AbeDFF\"\n",
    "print(str6.lower())"
   ]
  },
  {
   "cell_type": "code",
   "execution_count": 39,
   "id": "069107e3",
   "metadata": {},
   "outputs": [
    {
     "name": "stdout",
     "output_type": "stream",
     "text": [
      "D\n",
      "e\n",
      "e\n",
      "p\n",
      "a\n",
      "k\n",
      " \n",
      "i\n",
      "s\n",
      " \n",
      "a\n",
      " \n",
      "g\n",
      "o\n",
      "o\n",
      "d\n",
      " \n",
      " \n",
      "D\n",
      "e\n",
      "v\n",
      "e\n",
      "l\n",
      "o\n",
      "p\n",
      "e\n",
      "r\n"
     ]
    }
   ],
   "source": [
    "for i in final_str:\n",
    "    print(i)"
   ]
  },
  {
   "cell_type": "code",
   "execution_count": null,
   "id": "9cb5a07e",
   "metadata": {},
   "outputs": [],
   "source": []
  }
 ],
 "metadata": {
  "kernelspec": {
   "display_name": "Python 3 (ipykernel)",
   "language": "python",
   "name": "python3"
  },
  "language_info": {
   "codemirror_mode": {
    "name": "ipython",
    "version": 3
   },
   "file_extension": ".py",
   "mimetype": "text/x-python",
   "name": "python",
   "nbconvert_exporter": "python",
   "pygments_lexer": "ipython3",
   "version": "3.10.11"
  }
 },
 "nbformat": 4,
 "nbformat_minor": 5
}
