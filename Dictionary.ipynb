{
 "cells": [
  {
   "cell_type": "code",
   "execution_count": 1,
   "id": "22ace28b",
   "metadata": {},
   "outputs": [
    {
     "name": "stdout",
     "output_type": "stream",
     "text": [
      "<class 'dict'>\n"
     ]
    }
   ],
   "source": [
    "#dictionary\n",
    "dict = {}\n",
    "print(type(dict))"
   ]
  },
  {
   "cell_type": "code",
   "execution_count": 2,
   "id": "14125e20",
   "metadata": {},
   "outputs": [
    {
     "name": "stdout",
     "output_type": "stream",
     "text": [
      "0\n"
     ]
    }
   ],
   "source": [
    "print(len(dict))"
   ]
  },
  {
   "cell_type": "code",
   "execution_count": 3,
   "id": "c4aa1c24",
   "metadata": {},
   "outputs": [],
   "source": [
    "# adding elements into dict\n",
    "dict2 = {}\n",
    "dict2[\"a\"] = 1\n",
    "dict2[\"b\"] = 2\n",
    "dict2[\"c\"] = 3"
   ]
  },
  {
   "cell_type": "code",
   "execution_count": 4,
   "id": "2ed36a6f",
   "metadata": {},
   "outputs": [
    {
     "name": "stdout",
     "output_type": "stream",
     "text": [
      "{'a': 1, 'b': 2, 'c': 3}\n"
     ]
    }
   ],
   "source": [
    "print(dict2)"
   ]
  },
  {
   "cell_type": "code",
   "execution_count": 5,
   "id": "89e38f6f",
   "metadata": {},
   "outputs": [],
   "source": [
    "dict2[4] = \"def\""
   ]
  },
  {
   "cell_type": "code",
   "execution_count": 6,
   "id": "eecbf3c6",
   "metadata": {},
   "outputs": [
    {
     "name": "stdout",
     "output_type": "stream",
     "text": [
      "{'a': 1, 'b': 2, 'c': 3, 4: 'def'}\n"
     ]
    }
   ],
   "source": [
    "print(dict2)"
   ]
  },
  {
   "cell_type": "code",
   "execution_count": 7,
   "id": "8d88bf85",
   "metadata": {},
   "outputs": [],
   "source": [
    "dict2[\"skills\"] = [\"python\",\"sql\"]"
   ]
  },
  {
   "cell_type": "code",
   "execution_count": 8,
   "id": "1a6ff3fe",
   "metadata": {},
   "outputs": [
    {
     "name": "stdout",
     "output_type": "stream",
     "text": [
      "{'a': 1, 'b': 2, 'c': 3, 4: 'def', 'skills': ['python', 'sql']}\n"
     ]
    }
   ],
   "source": [
    "print(dict2)"
   ]
  },
  {
   "cell_type": "code",
   "execution_count": 9,
   "id": "b6335690",
   "metadata": {},
   "outputs": [],
   "source": [
    "dict2[\"mis\"] = {\"nationality\" : \"Indian\" }"
   ]
  },
  {
   "cell_type": "code",
   "execution_count": 10,
   "id": "b87e4c14",
   "metadata": {},
   "outputs": [
    {
     "name": "stdout",
     "output_type": "stream",
     "text": [
      "{'a': 1, 'b': 2, 'c': 3, 4: 'def', 'skills': ['python', 'sql'], 'mis': {'nationality': 'Indian'}}\n"
     ]
    }
   ],
   "source": [
    "print(dict2)"
   ]
  },
  {
   "cell_type": "code",
   "execution_count": 11,
   "id": "e2be2bd6",
   "metadata": {},
   "outputs": [
    {
     "name": "stdout",
     "output_type": "stream",
     "text": [
      "6\n"
     ]
    }
   ],
   "source": [
    "print(len(dict2))"
   ]
  },
  {
   "cell_type": "code",
   "execution_count": 12,
   "id": "af9dd953",
   "metadata": {},
   "outputs": [
    {
     "name": "stdout",
     "output_type": "stream",
     "text": [
      "1\n"
     ]
    }
   ],
   "source": [
    "print(dict2[\"a\"])"
   ]
  },
  {
   "cell_type": "code",
   "execution_count": 14,
   "id": "6fd8ccab",
   "metadata": {},
   "outputs": [
    {
     "name": "stdout",
     "output_type": "stream",
     "text": [
      "Indian\n"
     ]
    }
   ],
   "source": [
    "print(dict2[\"mis\"][\"nationality\"])\n"
   ]
  },
  {
   "cell_type": "code",
   "execution_count": 19,
   "id": "ef16a5ce",
   "metadata": {},
   "outputs": [
    {
     "name": "stdout",
     "output_type": "stream",
     "text": [
      "sql\n"
     ]
    }
   ],
   "source": [
    "print(dict2[\"skills\"][1])\n"
   ]
  },
  {
   "cell_type": "code",
   "execution_count": 20,
   "id": "89d7bb47",
   "metadata": {},
   "outputs": [],
   "source": [
    "dict2[\"a\"] = 123"
   ]
  },
  {
   "cell_type": "code",
   "execution_count": 21,
   "id": "28c5e126",
   "metadata": {},
   "outputs": [
    {
     "name": "stdout",
     "output_type": "stream",
     "text": [
      "{'a': 123, 'b': 2, 'c': 3, 4: 'def', 'skills': ['python', 'sql'], 'mis': {'nationality': 'Indian'}}\n"
     ]
    }
   ],
   "source": [
    "print(dict2)"
   ]
  },
  {
   "cell_type": "code",
   "execution_count": 22,
   "id": "b12ebef7",
   "metadata": {},
   "outputs": [
    {
     "data": {
      "text/plain": [
       "dict_keys(['a', 'b', 'c', 4, 'skills', 'mis'])"
      ]
     },
     "execution_count": 22,
     "metadata": {},
     "output_type": "execute_result"
    }
   ],
   "source": [
    "dict2.keys()"
   ]
  },
  {
   "cell_type": "code",
   "execution_count": 23,
   "id": "d7512f71",
   "metadata": {},
   "outputs": [
    {
     "data": {
      "text/plain": [
       "dict_values([123, 2, 3, 'def', ['python', 'sql'], {'nationality': 'Indian'}])"
      ]
     },
     "execution_count": 23,
     "metadata": {},
     "output_type": "execute_result"
    }
   ],
   "source": [
    "dict2.values()"
   ]
  },
  {
   "cell_type": "code",
   "execution_count": 29,
   "id": "bc8d914c",
   "metadata": {},
   "outputs": [
    {
     "name": "stdout",
     "output_type": "stream",
     "text": [
      "['a', 'b', 'c', 4, 'skills', 'mis']\n",
      "[123, 2, 3, 'def', ['python', 'sql'], {'nationality': 'Indian'}]\n"
     ]
    }
   ],
   "source": [
    "keys_list = list(dict2.keys())\n",
    "values_list = list(dict2.values())\n",
    "print(keys_list)\n",
    "print(values_list)"
   ]
  },
  {
   "cell_type": "code",
   "execution_count": 33,
   "id": "b5287f89",
   "metadata": {},
   "outputs": [
    {
     "name": "stdout",
     "output_type": "stream",
     "text": [
      "keys of dictionary are : a\n",
      "keys of dictionary are : b\n",
      "keys of dictionary are : c\n",
      "keys of dictionary are : 4\n",
      "keys of dictionary are : skills\n",
      "keys of dictionary are : mis\n"
     ]
    }
   ],
   "source": [
    "for k,v in dict2.items():\n",
    "    print(\"keys of dictionary are :\",k)"
   ]
  },
  {
   "cell_type": "code",
   "execution_count": 31,
   "id": "4f37d83f",
   "metadata": {},
   "outputs": [
    {
     "name": "stdout",
     "output_type": "stream",
     "text": [
      "123\n",
      "2\n",
      "3\n",
      "def\n",
      "['python', 'sql']\n",
      "{'nationality': 'Indian'}\n"
     ]
    }
   ],
   "source": [
    "for k,v in dict2.items():\n",
    "    print(v)"
   ]
  },
  {
   "cell_type": "code",
   "execution_count": 32,
   "id": "0a4f4469",
   "metadata": {},
   "outputs": [
    {
     "data": {
      "text/plain": [
       "dict_items([('a', 123), ('b', 2), ('c', 3), (4, 'def'), ('skills', ['python', 'sql']), ('mis', {'nationality': 'Indian'})])"
      ]
     },
     "execution_count": 32,
     "metadata": {},
     "output_type": "execute_result"
    }
   ],
   "source": [
    "dict2.items()"
   ]
  },
  {
   "cell_type": "code",
   "execution_count": 34,
   "id": "28ae7efe",
   "metadata": {},
   "outputs": [
    {
     "data": {
      "text/plain": [
       "True"
      ]
     },
     "execution_count": 34,
     "metadata": {},
     "output_type": "execute_result"
    }
   ],
   "source": [
    "dict3 = {'a' : 1, 'b' : 2, 'c' : 3}\n",
    "dict4 = {'b' : 2, 'c' : 3, 'a' : 1}\n",
    "\n",
    "dict3 == dict4 #irrespective of position it will check for key value pairs"
   ]
  },
  {
   "cell_type": "code",
   "execution_count": 36,
   "id": "ef73f8e5",
   "metadata": {},
   "outputs": [],
   "source": [
    "del dict2[\"a\"]"
   ]
  },
  {
   "cell_type": "code",
   "execution_count": 37,
   "id": "bf9e24ac",
   "metadata": {},
   "outputs": [
    {
     "name": "stdout",
     "output_type": "stream",
     "text": [
      "{'b': 2, 'c': 3, 4: 'def', 'skills': ['python', 'sql'], 'mis': {'nationality': 'Indian'}}\n"
     ]
    }
   ],
   "source": [
    "print(dict2)"
   ]
  },
  {
   "cell_type": "code",
   "execution_count": 39,
   "id": "5d7056a4",
   "metadata": {},
   "outputs": [],
   "source": [
    "del dict2[4]"
   ]
  },
  {
   "cell_type": "code",
   "execution_count": 40,
   "id": "7dac288c",
   "metadata": {},
   "outputs": [
    {
     "name": "stdout",
     "output_type": "stream",
     "text": [
      "{'b': 2, 'c': 3, 'skills': ['python', 'sql'], 'mis': {'nationality': 'Indian'}}\n"
     ]
    }
   ],
   "source": [
    "print(dict2)"
   ]
  },
  {
   "cell_type": "code",
   "execution_count": 42,
   "id": "4f288243",
   "metadata": {},
   "outputs": [
    {
     "name": "stdout",
     "output_type": "stream",
     "text": [
      "no\n"
     ]
    }
   ],
   "source": [
    "#check for any key existing in dictionary\n",
    "key_list = list(dict2.keys())\n",
    "if \"a\" in key_list:\n",
    "    print('yes')\n",
    "else:\n",
    "    print(\"no\")\n",
    "\n"
   ]
  },
  {
   "cell_type": "code",
   "execution_count": 44,
   "id": "7193cd7d",
   "metadata": {},
   "outputs": [
    {
     "data": {
      "text/plain": [
       "'abc'"
      ]
     },
     "execution_count": 44,
     "metadata": {},
     "output_type": "execute_result"
    }
   ],
   "source": [
    "string = \"   abc   \"\n",
    "string.strip()"
   ]
  },
  {
   "cell_type": "code",
   "execution_count": 48,
   "id": "28bc41b8",
   "metadata": {},
   "outputs": [
    {
     "data": {
      "text/plain": [
       "[' A - 11', 'B - 12', 'C - 13']"
      ]
     },
     "execution_count": 48,
     "metadata": {},
     "output_type": "execute_result"
    }
   ],
   "source": [
    "string = \" A - 11 , B - 12 , C - 13\"\n",
    "string.split(\" , \")"
   ]
  },
  {
   "cell_type": "code",
   "execution_count": null,
   "id": "ab031324",
   "metadata": {},
   "outputs": [],
   "source": []
  }
 ],
 "metadata": {
  "kernelspec": {
   "display_name": "Python 3 (ipykernel)",
   "language": "python",
   "name": "python3"
  },
  "language_info": {
   "codemirror_mode": {
    "name": "ipython",
    "version": 3
   },
   "file_extension": ".py",
   "mimetype": "text/x-python",
   "name": "python",
   "nbconvert_exporter": "python",
   "pygments_lexer": "ipython3",
   "version": "3.10.11"
  }
 },
 "nbformat": 4,
 "nbformat_minor": 5
}
