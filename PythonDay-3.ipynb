{
 "cells": [
  {
   "cell_type": "code",
   "execution_count": 1,
   "id": "470a987a",
   "metadata": {},
   "outputs": [],
   "source": [
    "l1 = []"
   ]
  },
  {
   "cell_type": "code",
   "execution_count": 2,
   "id": "6f520f73",
   "metadata": {},
   "outputs": [
    {
     "data": {
      "text/plain": [
       "list"
      ]
     },
     "execution_count": 2,
     "metadata": {},
     "output_type": "execute_result"
    }
   ],
   "source": [
    "type(l1)"
   ]
  },
  {
   "cell_type": "code",
   "execution_count": 4,
   "id": "b4a968bf",
   "metadata": {},
   "outputs": [
    {
     "name": "stdout",
     "output_type": "stream",
     "text": [
      "length of list : 0\n"
     ]
    }
   ],
   "source": [
    "print(\"length of list :\", len(l1))"
   ]
  },
  {
   "cell_type": "code",
   "execution_count": 5,
   "id": "b514c5f9",
   "metadata": {},
   "outputs": [],
   "source": [
    "l1.append(1) # adding elements into list"
   ]
  },
  {
   "cell_type": "code",
   "execution_count": 6,
   "id": "98ad29d5",
   "metadata": {},
   "outputs": [],
   "source": [
    "l1.append(2)\n",
    "l1.append(2)\n",
    "l1.append(2)\n",
    "l1.append(3)\n",
    "l1.append(4)"
   ]
  },
  {
   "cell_type": "code",
   "execution_count": 7,
   "id": "38005c4b",
   "metadata": {},
   "outputs": [
    {
     "name": "stdout",
     "output_type": "stream",
     "text": [
      "[1, 2, 2, 2, 3, 4]\n"
     ]
    }
   ],
   "source": [
    "print(l1)"
   ]
  },
  {
   "cell_type": "code",
   "execution_count": 8,
   "id": "fb593449",
   "metadata": {},
   "outputs": [
    {
     "ename": "TypeError",
     "evalue": "list.append() takes exactly one argument (2 given)",
     "output_type": "error",
     "traceback": [
      "\u001b[1;31m---------------------------------------------------------------------------\u001b[0m",
      "\u001b[1;31mTypeError\u001b[0m                                 Traceback (most recent call last)",
      "Cell \u001b[1;32mIn[8], line 1\u001b[0m\n\u001b[1;32m----> 1\u001b[0m \u001b[43ml1\u001b[49m\u001b[38;5;241;43m.\u001b[39;49m\u001b[43mappend\u001b[49m\u001b[43m(\u001b[49m\u001b[38;5;241;43m5\u001b[39;49m\u001b[43m,\u001b[49m\u001b[38;5;241;43m6\u001b[39;49m\u001b[43m)\u001b[49m\n",
      "\u001b[1;31mTypeError\u001b[0m: list.append() takes exactly one argument (2 given)"
     ]
    }
   ],
   "source": [
    "l1.append(5,6) "
   ]
  },
  {
   "cell_type": "code",
   "execution_count": 9,
   "id": "ecf9a307",
   "metadata": {},
   "outputs": [],
   "source": [
    "l1.append([1,2])"
   ]
  },
  {
   "cell_type": "code",
   "execution_count": 10,
   "id": "63b4ee89",
   "metadata": {},
   "outputs": [
    {
     "name": "stdout",
     "output_type": "stream",
     "text": [
      "[1, 2, 2, 2, 3, 4, [1, 2]]\n"
     ]
    }
   ],
   "source": [
    "print(l1)"
   ]
  },
  {
   "cell_type": "code",
   "execution_count": 11,
   "id": "913dcfbd",
   "metadata": {},
   "outputs": [],
   "source": [
    "l1.append(\"abc\")"
   ]
  },
  {
   "cell_type": "code",
   "execution_count": 12,
   "id": "c93484ad",
   "metadata": {},
   "outputs": [
    {
     "name": "stdout",
     "output_type": "stream",
     "text": [
      "[1, 2, 2, 2, 3, 4, [1, 2], 'abc']\n"
     ]
    }
   ],
   "source": [
    "print(l1)"
   ]
  },
  {
   "cell_type": "code",
   "execution_count": 13,
   "id": "15b1f001",
   "metadata": {},
   "outputs": [
    {
     "name": "stdout",
     "output_type": "stream",
     "text": [
      "8\n"
     ]
    }
   ],
   "source": [
    "print(len(l1))"
   ]
  },
  {
   "cell_type": "code",
   "execution_count": 23,
   "id": "f84e7b09",
   "metadata": {},
   "outputs": [
    {
     "name": "stdout",
     "output_type": "stream",
     "text": [
      "100\n"
     ]
    }
   ],
   "source": [
    "# add numbers from 1 to 100  \n",
    "# range(0,3)   >>> 0,1,2\n",
    "# (100) >> 0,...99\n",
    "l2 = []\n",
    "for i in range(100):\n",
    "    l2.append(i)\n",
    "print(len(l2))"
   ]
  },
  {
   "cell_type": "code",
   "execution_count": 21,
   "id": "243c85ed",
   "metadata": {},
   "outputs": [
    {
     "name": "stdout",
     "output_type": "stream",
     "text": [
      "[0, 1, 2, 3, 4, 5, 6, 7, 8, 9, 10, 11, 12, 13, 14, 15, 16, 17, 18, 19, 20, 21, 22, 23, 24, 25, 26, 27, 28, 29, 30, 31, 32, 33, 34, 35, 36, 37, 38, 39, 40, 41, 42, 43, 44, 45, 46, 47, 48, 49, 50, 51, 52, 53, 54, 55, 56, 57, 58, 59, 60, 61, 62, 63, 64, 65, 66, 67, 68, 69, 70, 71, 72, 73, 74, 75, 76, 77, 78, 79, 80, 81, 82, 83, 84, 85, 86, 87, 88, 89, 90, 91, 92, 93, 94, 95, 96, 97, 98, 99]\n"
     ]
    }
   ],
   "source": [
    "print(l2)"
   ]
  },
  {
   "cell_type": "code",
   "execution_count": 24,
   "id": "56016adb",
   "metadata": {},
   "outputs": [
    {
     "data": {
      "text/plain": [
       "[0,\n",
       " 2,\n",
       " 4,\n",
       " 6,\n",
       " 8,\n",
       " 10,\n",
       " 12,\n",
       " 14,\n",
       " 16,\n",
       " 18,\n",
       " 20,\n",
       " 22,\n",
       " 24,\n",
       " 26,\n",
       " 28,\n",
       " 30,\n",
       " 32,\n",
       " 34,\n",
       " 36,\n",
       " 38,\n",
       " 40,\n",
       " 42,\n",
       " 44,\n",
       " 46,\n",
       " 48,\n",
       " 50,\n",
       " 52,\n",
       " 54,\n",
       " 56,\n",
       " 58,\n",
       " 60,\n",
       " 62,\n",
       " 64,\n",
       " 66,\n",
       " 68,\n",
       " 70,\n",
       " 72,\n",
       " 74,\n",
       " 76,\n",
       " 78,\n",
       " 80,\n",
       " 82,\n",
       " 84,\n",
       " 86,\n",
       " 88,\n",
       " 90,\n",
       " 92,\n",
       " 94,\n",
       " 96,\n",
       " 98]"
      ]
     },
     "execution_count": 24,
     "metadata": {},
     "output_type": "execute_result"
    }
   ],
   "source": [
    "l2[::2]"
   ]
  },
  {
   "cell_type": "code",
   "execution_count": 25,
   "id": "219de31d",
   "metadata": {},
   "outputs": [
    {
     "data": {
      "text/plain": [
       "True"
      ]
     },
     "execution_count": 25,
     "metadata": {},
     "output_type": "execute_result"
    }
   ],
   "source": [
    "list1 = [1,\"arjun\",\"hyd\"]\n",
    "list2 = [1,\"arjun\",\"hyd\"]\n",
    "list1 == list2"
   ]
  },
  {
   "cell_type": "code",
   "execution_count": 48,
   "id": "eff2dae2",
   "metadata": {},
   "outputs": [
    {
     "data": {
      "text/plain": [
       "False"
      ]
     },
     "execution_count": 48,
     "metadata": {},
     "output_type": "execute_result"
    }
   ],
   "source": [
    "list1 = [1,\"arjun\",\"hyd\"]\n",
    "list2 = [2,\"arjun\",\"hyd\"]\n",
    "list1 == list2"
   ]
  },
  {
   "cell_type": "code",
   "execution_count": 36,
   "id": "42bd7bb0",
   "metadata": {},
   "outputs": [
    {
     "data": {
      "text/plain": [
       "[1, 'arjun', 'hyd', 2, 'arjun', 'hyd']"
      ]
     },
     "execution_count": 36,
     "metadata": {},
     "output_type": "execute_result"
    }
   ],
   "source": [
    "# list concatination\n",
    "list3 = list1 + list2\n",
    "list3"
   ]
  },
  {
   "cell_type": "code",
   "execution_count": 30,
   "id": "4666eba2",
   "metadata": {},
   "outputs": [],
   "source": [
    "list4 = [\"1\",\"arjun\",\"hyd\",\"2\"]"
   ]
  },
  {
   "cell_type": "code",
   "execution_count": 31,
   "id": "1aa8b2c9",
   "metadata": {},
   "outputs": [
    {
     "name": "stdout",
     "output_type": "stream",
     "text": [
      "True\n",
      "False\n",
      "False\n",
      "True\n"
     ]
    }
   ],
   "source": [
    "# how to access elements in list\n",
    "for i in list4:\n",
    "    print(i.isdigit())"
   ]
  },
  {
   "cell_type": "code",
   "execution_count": 32,
   "id": "31a47912",
   "metadata": {},
   "outputs": [
    {
     "name": "stdout",
     "output_type": "stream",
     "text": [
      "1\n",
      "arjun\n",
      "hyd\n",
      "2\n"
     ]
    }
   ],
   "source": [
    "for i in list4:\n",
    "    print(i)"
   ]
  },
  {
   "cell_type": "code",
   "execution_count": 37,
   "id": "772064ca",
   "metadata": {},
   "outputs": [
    {
     "data": {
      "text/plain": [
       "1"
      ]
     },
     "execution_count": 37,
     "metadata": {},
     "output_type": "execute_result"
    }
   ],
   "source": [
    "# index\n",
    "list3[0]"
   ]
  },
  {
   "cell_type": "code",
   "execution_count": 38,
   "id": "50aab64d",
   "metadata": {},
   "outputs": [
    {
     "data": {
      "text/plain": [
       "[1, 2, 2, 2, 3, 4, [1, 2], 'abc']"
      ]
     },
     "execution_count": 38,
     "metadata": {},
     "output_type": "execute_result"
    }
   ],
   "source": [
    "l1"
   ]
  },
  {
   "cell_type": "code",
   "execution_count": 40,
   "id": "9bd254c0",
   "metadata": {},
   "outputs": [
    {
     "name": "stdout",
     "output_type": "stream",
     "text": [
      "[1, 2]\n"
     ]
    }
   ],
   "source": [
    "print(l1[6])"
   ]
  },
  {
   "cell_type": "code",
   "execution_count": 41,
   "id": "4e96dfc8",
   "metadata": {},
   "outputs": [
    {
     "data": {
      "text/plain": [
       "[1, 2, 2, 2, 3, 4, [1, 2], 'abc']"
      ]
     },
     "execution_count": 41,
     "metadata": {},
     "output_type": "execute_result"
    }
   ],
   "source": [
    "# print every element with out knowing lenth of list\n",
    "l1[::]"
   ]
  },
  {
   "cell_type": "code",
   "execution_count": 45,
   "id": "3385b46b",
   "metadata": {},
   "outputs": [
    {
     "name": "stdout",
     "output_type": "stream",
     "text": [
      "2\n",
      "3\n",
      "4\n",
      "5\n",
      "6\n",
      "7\n"
     ]
    }
   ],
   "source": [
    "for i in range(2,len(l1)):  # using len of list in range function\n",
    "    print(i)"
   ]
  },
  {
   "cell_type": "code",
   "execution_count": 51,
   "id": "d9059180",
   "metadata": {},
   "outputs": [],
   "source": [
    "list1.extend(list2)\n"
   ]
  },
  {
   "cell_type": "code",
   "execution_count": 52,
   "id": "51cf220d",
   "metadata": {},
   "outputs": [
    {
     "data": {
      "text/plain": [
       "[1, 'arjun', 'hyd', 2, 'arjun', 'hyd', 2, 'arjun', 'hyd', 2, 'arjun', 'hyd']"
      ]
     },
     "execution_count": 52,
     "metadata": {},
     "output_type": "execute_result"
    }
   ],
   "source": [
    "list1"
   ]
  },
  {
   "cell_type": "code",
   "execution_count": 53,
   "id": "61449318",
   "metadata": {},
   "outputs": [],
   "source": [
    "list1 = [1,\"arjun\",\"hyd\"]\n",
    "list2 = [2,\"arjun\",\"hyd\"]\n",
    "\n",
    "list4 = list1"
   ]
  },
  {
   "cell_type": "code",
   "execution_count": 54,
   "id": "1e6cbd94",
   "metadata": {},
   "outputs": [],
   "source": [
    "list4.extend(list2)"
   ]
  },
  {
   "cell_type": "code",
   "execution_count": 55,
   "id": "1d55db7d",
   "metadata": {},
   "outputs": [
    {
     "data": {
      "text/plain": [
       "[1, 'arjun', 'hyd', 2, 'arjun', 'hyd']"
      ]
     },
     "execution_count": 55,
     "metadata": {},
     "output_type": "execute_result"
    }
   ],
   "source": [
    "list4"
   ]
  },
  {
   "cell_type": "code",
   "execution_count": 56,
   "id": "4e090dfd",
   "metadata": {},
   "outputs": [],
   "source": [
    "list4.append(list2)"
   ]
  },
  {
   "cell_type": "code",
   "execution_count": 57,
   "id": "548982a6",
   "metadata": {},
   "outputs": [
    {
     "data": {
      "text/plain": [
       "[1, 'arjun', 'hyd', 2, 'arjun', 'hyd', [2, 'arjun', 'hyd']]"
      ]
     },
     "execution_count": 57,
     "metadata": {},
     "output_type": "execute_result"
    }
   ],
   "source": [
    "list4"
   ]
  },
  {
   "cell_type": "code",
   "execution_count": 59,
   "id": "91fa1036",
   "metadata": {},
   "outputs": [
    {
     "name": "stdout",
     "output_type": "stream",
     "text": [
      "7\n"
     ]
    }
   ],
   "source": [
    "print(len(list4))"
   ]
  },
  {
   "cell_type": "code",
   "execution_count": 60,
   "id": "4f201cf0",
   "metadata": {},
   "outputs": [
    {
     "name": "stdout",
     "output_type": "stream",
     "text": [
      "['hyd', 2, 'arjun', 'hyd']\n"
     ]
    }
   ],
   "source": [
    "print(list4[2:6])"
   ]
  },
  {
   "cell_type": "code",
   "execution_count": 62,
   "id": "cfebb686",
   "metadata": {},
   "outputs": [
    {
     "name": "stdout",
     "output_type": "stream",
     "text": [
      "[1, 2, [2, 'arjun', 'hyd']]\n"
     ]
    }
   ],
   "source": [
    "print(list4[::3])"
   ]
  },
  {
   "cell_type": "code",
   "execution_count": 63,
   "id": "e27eb85f",
   "metadata": {},
   "outputs": [
    {
     "name": "stdout",
     "output_type": "stream",
     "text": [
      "[2, 'arjun', 'hyd']\n"
     ]
    }
   ],
   "source": [
    "print(list4[6])"
   ]
  },
  {
   "cell_type": "code",
   "execution_count": 64,
   "id": "1d582e4a",
   "metadata": {},
   "outputs": [
    {
     "name": "stdout",
     "output_type": "stream",
     "text": [
      "hyd\n"
     ]
    }
   ],
   "source": [
    "print(list4[6][2])"
   ]
  },
  {
   "cell_type": "code",
   "execution_count": 65,
   "id": "734fdad9",
   "metadata": {},
   "outputs": [
    {
     "name": "stdout",
     "output_type": "stream",
     "text": [
      "[1, 2, [2, 'arjun', 'hyd']] hyd\n"
     ]
    }
   ],
   "source": [
    "print(list4[::3],list4[6][2])"
   ]
  },
  {
   "cell_type": "code",
   "execution_count": 66,
   "id": "3ae604ce",
   "metadata": {},
   "outputs": [
    {
     "name": "stdout",
     "output_type": "stream",
     "text": [
      "[[2, 'arjun', 'hyd'], 'hyd', 'arjun', 2, 'hyd', 'arjun', 1]\n"
     ]
    }
   ],
   "source": [
    "print(list4[::-1]) "
   ]
  },
  {
   "cell_type": "code",
   "execution_count": null,
   "id": "cfdf3ff8",
   "metadata": {},
   "outputs": [],
   "source": [
    "list = [\"abc1\",\"ab22\",\"abc33\"] # print no of digits in every element\n",
    "abc1 >> 1\n",
    "ab22 >> 2\n",
    "abc33 >> 2"
   ]
  }
 ],
 "metadata": {
  "kernelspec": {
   "display_name": "Python 3 (ipykernel)",
   "language": "python",
   "name": "python3"
  },
  "language_info": {
   "codemirror_mode": {
    "name": "ipython",
    "version": 3
   },
   "file_extension": ".py",
   "mimetype": "text/x-python",
   "name": "python",
   "nbconvert_exporter": "python",
   "pygments_lexer": "ipython3",
   "version": "3.10.11"
  }
 },
 "nbformat": 4,
 "nbformat_minor": 5
}
