{
 "cells": [
  {
   "cell_type": "code",
   "execution_count": 1,
   "id": "6171a318",
   "metadata": {},
   "outputs": [
    {
     "name": "stdout",
     "output_type": "stream",
     "text": [
      "1\n",
      "2\n",
      "3\n",
      "5\n",
      "8\n",
      "5664\n",
      "225\n"
     ]
    }
   ],
   "source": [
    "lst = [1,2,3,5,8,5664,225]\n",
    "for i in lst:\n",
    "    print(i)"
   ]
  },
  {
   "cell_type": "code",
   "execution_count": 3,
   "id": "ee1db2f3",
   "metadata": {},
   "outputs": [
    {
     "name": "stdout",
     "output_type": "stream",
     "text": [
      "[1, 2, 3, 5, 8, 5664, 225]\n"
     ]
    }
   ],
   "source": [
    "lst2 = [i for i in lst]\n",
    "print(lst2)"
   ]
  },
  {
   "cell_type": "code",
   "execution_count": 10,
   "id": "b9dcaa4b",
   "metadata": {},
   "outputs": [
    {
     "data": {
      "text/plain": [
       "[0,\n",
       " 1,\n",
       " 2,\n",
       " 3,\n",
       " 4,\n",
       " 5,\n",
       " 6,\n",
       " 7,\n",
       " 8,\n",
       " 9,\n",
       " 10,\n",
       " 11,\n",
       " 12,\n",
       " 13,\n",
       " 14,\n",
       " 15,\n",
       " 16,\n",
       " 17,\n",
       " 18,\n",
       " 19,\n",
       " 20,\n",
       " 21,\n",
       " 22,\n",
       " 23,\n",
       " 24]"
      ]
     },
     "execution_count": 10,
     "metadata": {},
     "output_type": "execute_result"
    }
   ],
   "source": [
    "lst3 = [ i for i in range(25)]\n",
    "lst3"
   ]
  },
  {
   "cell_type": "code",
   "execution_count": 6,
   "id": "da24e3b0",
   "metadata": {},
   "outputs": [
    {
     "name": "stdout",
     "output_type": "stream",
     "text": [
      "0  is a even\n",
      "2  is a even\n",
      "4  is a even\n",
      "6  is a even\n",
      "8  is a even\n",
      "10  is a even\n",
      "12  is a even\n",
      "14  is a even\n",
      "16  is a even\n",
      "18  is a even\n"
     ]
    }
   ],
   "source": [
    "# print even numbers\n",
    "for i in lst3:\n",
    "    if i%2 == 0:\n",
    "        print(i, \" is a even\")"
   ]
  },
  {
   "cell_type": "code",
   "execution_count": 8,
   "id": "b5c3d540",
   "metadata": {},
   "outputs": [
    {
     "name": "stdout",
     "output_type": "stream",
     "text": [
      "[0, 2, 4, 6, 8, 10, 12, 14, 16, 18]\n"
     ]
    }
   ],
   "source": [
    "#get even numbers out of list\n",
    "lst4 = [i for i in lst3 if i% 2 == 0]\n",
    "print(lst4)"
   ]
  },
  {
   "cell_type": "code",
   "execution_count": 9,
   "id": "2d5dedc3",
   "metadata": {},
   "outputs": [
    {
     "name": "stdout",
     "output_type": "stream",
     "text": [
      "[1, 3, 5, 7, 9, 11, 13, 15, 17, 19]\n"
     ]
    }
   ],
   "source": [
    "# get odd numbers out of list\n",
    "lst5 = [i for i in lst3 if i% 2 != 0]\n",
    "print(lst5)"
   ]
  },
  {
   "cell_type": "code",
   "execution_count": 11,
   "id": "7d904e61",
   "metadata": {},
   "outputs": [
    {
     "data": {
      "text/plain": [
       "[0, 1, 2, 3, 4, 5, 6, 7, 8, 9, 10, 11, 12, 13, 14, 15, 16, 17, 18, 19]"
      ]
     },
     "execution_count": 11,
     "metadata": {},
     "output_type": "execute_result"
    }
   ],
   "source": [
    "lst6 = [i for i in lst3[:20]]\n",
    "lst6"
   ]
  },
  {
   "cell_type": "code",
   "execution_count": 12,
   "id": "c554fd17",
   "metadata": {},
   "outputs": [
    {
     "data": {
      "text/plain": [
       "[1, 2, 3, 5, 8]"
      ]
     },
     "execution_count": 12,
     "metadata": {},
     "output_type": "execute_result"
    }
   ],
   "source": [
    "lst7 = [i for i in lst if i <20]\n",
    "lst7"
   ]
  },
  {
   "cell_type": "code",
   "execution_count": 13,
   "id": "c819eb07",
   "metadata": {},
   "outputs": [
    {
     "data": {
      "text/plain": [
       "[1, 2, 3, 5, 8, 5664, 225]"
      ]
     },
     "execution_count": 13,
     "metadata": {},
     "output_type": "execute_result"
    }
   ],
   "source": [
    "lst"
   ]
  },
  {
   "cell_type": "code",
   "execution_count": 17,
   "id": "4a7cac4e",
   "metadata": {},
   "outputs": [
    {
     "name": "stdout",
     "output_type": "stream",
     "text": [
      "['HI', 'HELLO', 'BYE']\n"
     ]
    }
   ],
   "source": [
    "lst = [ \"hi\", \"hello\", \"bye\"]\n",
    "print([i.upper() for i in lst])"
   ]
  },
  {
   "cell_type": "code",
   "execution_count": 18,
   "id": "91e0c1c0",
   "metadata": {},
   "outputs": [
    {
     "name": "stdout",
     "output_type": "stream",
     "text": [
      "[1, 3, 5, 6, 7]\n"
     ]
    }
   ],
   "source": [
    "lst = [ 1,3,5,-2,-4,6,7]\n",
    "print([i for i in lst if i > 0])  #getting positive values"
   ]
  },
  {
   "cell_type": "code",
   "execution_count": 19,
   "id": "b7f0821a",
   "metadata": {},
   "outputs": [
    {
     "name": "stdout",
     "output_type": "stream",
     "text": [
      "[-2, -4]\n"
     ]
    }
   ],
   "source": [
    "lst = [ 1,3,5,-2,-4,6,7]\n",
    "print([i for i in lst if i < 0])"
   ]
  },
  {
   "cell_type": "code",
   "execution_count": 20,
   "id": "5264683b",
   "metadata": {},
   "outputs": [
    {
     "data": {
      "text/plain": [
       "[1, 3, 5, 6, 7, -2, -4]"
      ]
     },
     "execution_count": 20,
     "metadata": {},
     "output_type": "execute_result"
    }
   ],
   "source": [
    "#print positive numbers and then negative numbers\n",
    "result = [i for i in lst if i > 0] + [i for i in lst if i < 0] \n",
    "result"
   ]
  },
  {
   "cell_type": "code",
   "execution_count": 21,
   "id": "5441b98e",
   "metadata": {},
   "outputs": [
    {
     "name": "stdout",
     "output_type": "stream",
     "text": [
      "['a', 'b', 'c']\n"
     ]
    }
   ],
   "source": [
    "dict1 = {\"a\":1, \"b\":2, \"c\":3}\n",
    "print([k for k,v in dict1.items()])"
   ]
  },
  {
   "cell_type": "code",
   "execution_count": 22,
   "id": "43aa3749",
   "metadata": {},
   "outputs": [
    {
     "name": "stdout",
     "output_type": "stream",
     "text": [
      "[3]\n"
     ]
    }
   ],
   "source": [
    "print([v for k,v in dict1.items() if v >2])"
   ]
  },
  {
   "cell_type": "code",
   "execution_count": 23,
   "id": "6e168614",
   "metadata": {},
   "outputs": [
    {
     "name": "stdout",
     "output_type": "stream",
     "text": [
      "['c']\n"
     ]
    }
   ],
   "source": [
    "print([k for k,v in dict1.items() if v >2])"
   ]
  },
  {
   "cell_type": "code",
   "execution_count": null,
   "id": "04948d19",
   "metadata": {},
   "outputs": [],
   "source": []
  }
 ],
 "metadata": {
  "kernelspec": {
   "display_name": "Python 3 (ipykernel)",
   "language": "python",
   "name": "python3"
  },
  "language_info": {
   "codemirror_mode": {
    "name": "ipython",
    "version": 3
   },
   "file_extension": ".py",
   "mimetype": "text/x-python",
   "name": "python",
   "nbconvert_exporter": "python",
   "pygments_lexer": "ipython3",
   "version": "3.10.11"
  }
 },
 "nbformat": 4,
 "nbformat_minor": 5
}
