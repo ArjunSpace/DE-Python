{
 "cells": [
  {
   "cell_type": "code",
   "execution_count": null,
   "id": "e193fb10",
   "metadata": {},
   "outputs": [],
   "source": [
    "#Numerical operators\n",
    "# + for additions\n",
    "# - for subtraction\n",
    "# * for multiplication\n",
    "# / for float division\n",
    "# // for division\n",
    "# % modulus\n",
    "# ** power "
   ]
  },
  {
   "cell_type": "code",
   "execution_count": 1,
   "id": "5303781b",
   "metadata": {},
   "outputs": [
    {
     "name": "stdout",
     "output_type": "stream",
     "text": [
      "3 + 5 is  8\n",
      "3 - 5 is  -2\n",
      "3 * 5 is  15\n",
      "3 / 5 is  0.6\n",
      "3 // 5 is  0\n",
      "3 % 5 is  3\n"
     ]
    }
   ],
   "source": [
    "x = 3\n",
    "y = 5\n",
    "print(f\"{x} + {y} is \", x+y)\n",
    "print(f\"{x} - {y} is \", x-y)\n",
    "print(f\"{x} * {y} is \", x*y)\n",
    "print(f\"{x} / {y} is \", x/y)\n",
    "print(f\"{x} // {y} is \", x//y)\n",
    "print(f\"{x} % {y} is \", x%y)"
   ]
  },
  {
   "cell_type": "code",
   "execution_count": 2,
   "id": "2b875080",
   "metadata": {},
   "outputs": [
    {
     "name": "stdout",
     "output_type": "stream",
     "text": [
      "1\n"
     ]
    }
   ],
   "source": [
    "x = 10\n",
    "y = 3\n",
    "print(x%y)"
   ]
  },
  {
   "cell_type": "code",
   "execution_count": 3,
   "id": "29dff1c0",
   "metadata": {},
   "outputs": [
    {
     "name": "stdout",
     "output_type": "stream",
     "text": [
      "3\n"
     ]
    }
   ],
   "source": [
    "print(x//y)"
   ]
  },
  {
   "cell_type": "code",
   "execution_count": null,
   "id": "fb5a8bd7",
   "metadata": {},
   "outputs": [],
   "source": [
    "3 ) 10 ( 3\n",
    "     9\n",
    "-------\n",
    "     1   "
   ]
  },
  {
   "cell_type": "code",
   "execution_count": 1,
   "id": "2f68c177",
   "metadata": {},
   "outputs": [
    {
     "name": "stdout",
     "output_type": "stream",
     "text": [
      "8\n"
     ]
    }
   ],
   "source": [
    "print(2**3)  >>> cube of 2"
   ]
  },
  {
   "cell_type": "code",
   "execution_count": 2,
   "id": "60f4ea74",
   "metadata": {},
   "outputs": [
    {
     "name": "stdout",
     "output_type": "stream",
     "text": [
      "4\n"
     ]
    }
   ],
   "source": [
    "print(2**2)"
   ]
  },
  {
   "cell_type": "code",
   "execution_count": 3,
   "id": "90851e0a",
   "metadata": {},
   "outputs": [
    {
     "name": "stdout",
     "output_type": "stream",
     "text": [
      "python programming\n"
     ]
    }
   ],
   "source": [
    "#string concatination\n",
    "print(\"python\" +\" \" + \"programming\")"
   ]
  },
  {
   "cell_type": "code",
   "execution_count": 5,
   "id": "b85c1cc5",
   "metadata": {},
   "outputs": [
    {
     "name": "stdout",
     "output_type": "stream",
     "text": [
      "python python python \n"
     ]
    }
   ],
   "source": [
    "print(\"python \" *3) #string multplication"
   ]
  },
  {
   "cell_type": "code",
   "execution_count": 6,
   "id": "b6f346a9",
   "metadata": {},
   "outputs": [],
   "source": [
    "#Assignment operators\n",
    "# =  , x = 5\n",
    "# += , x +=5 >> x = x+5\n",
    "# -= , x -=5 >> x = x-5\n",
    "# *=  , x*= 5 >> x = x*5\n"
   ]
  },
  {
   "cell_type": "code",
   "execution_count": null,
   "id": "7e45ab95",
   "metadata": {},
   "outputs": [],
   "source": [
    "#comparison operators\n",
    "==\n",
    "!=\n",
    ">\n",
    "<\n",
    ">=\n",
    "<=\n"
   ]
  },
  {
   "cell_type": "code",
   "execution_count": null,
   "id": "ac2976af",
   "metadata": {},
   "outputs": [],
   "source": [
    "#logical operators\n",
    "and\n",
    "or \n",
    "not\n"
   ]
  },
  {
   "cell_type": "code",
   "execution_count": 7,
   "id": "3a2221df",
   "metadata": {},
   "outputs": [
    {
     "name": "stdout",
     "output_type": "stream",
     "text": [
      "True\n"
     ]
    }
   ],
   "source": [
    "x = 2\n",
    "y = 3\n",
    "z = 5\n",
    "if x < y or y >z:\n",
    "    print(\"True\")"
   ]
  },
  {
   "cell_type": "code",
   "execution_count": 10,
   "id": "93cdfb2b",
   "metadata": {},
   "outputs": [
    {
     "name": "stdout",
     "output_type": "stream",
     "text": [
      "False\n"
     ]
    }
   ],
   "source": [
    "if x < y and y >z:\n",
    "    print(\"True\")\n",
    "else:\n",
    "    print(\"False\")"
   ]
  },
  {
   "cell_type": "code",
   "execution_count": null,
   "id": "88df2f09",
   "metadata": {},
   "outputs": [],
   "source": []
  }
 ],
 "metadata": {
  "kernelspec": {
   "display_name": "Python 3 (ipykernel)",
   "language": "python",
   "name": "python3"
  },
  "language_info": {
   "codemirror_mode": {
    "name": "ipython",
    "version": 3
   },
   "file_extension": ".py",
   "mimetype": "text/x-python",
   "name": "python",
   "nbconvert_exporter": "python",
   "pygments_lexer": "ipython3",
   "version": "3.10.11"
  }
 },
 "nbformat": 4,
 "nbformat_minor": 5
}
