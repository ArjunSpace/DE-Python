{
 "cells": [
  {
   "cell_type": "code",
   "execution_count": null,
   "id": "1df9c800",
   "metadata": {},
   "outputs": [],
   "source": [
    "# for loop\n",
    "#syntax\n",
    "for i in list:\n",
    "    operation/logic\n"
   ]
  },
  {
   "cell_type": "code",
   "execution_count": 1,
   "id": "d1b3e65b",
   "metadata": {},
   "outputs": [
    {
     "name": "stdout",
     "output_type": "stream",
     "text": [
      "0\n",
      "1\n",
      "2\n",
      "3\n",
      "4\n",
      "5\n",
      "6\n",
      "7\n",
      "8\n",
      "9\n"
     ]
    }
   ],
   "source": [
    "for i in range(10): #> range(10) > [o to 9]\n",
    "    print(i)"
   ]
  },
  {
   "cell_type": "code",
   "execution_count": 2,
   "id": "1efda5c5",
   "metadata": {},
   "outputs": [
    {
     "name": "stdout",
     "output_type": "stream",
     "text": [
      "0\n",
      "2\n",
      "4\n",
      "6\n",
      "8\n"
     ]
    }
   ],
   "source": [
    "for i in range(0,10,2):\n",
    "    print(i)"
   ]
  },
  {
   "cell_type": "code",
   "execution_count": 3,
   "id": "43b8d33f",
   "metadata": {},
   "outputs": [
    {
     "data": {
      "text/plain": [
       "21"
      ]
     },
     "execution_count": 3,
     "metadata": {},
     "output_type": "execute_result"
    }
   ],
   "source": [
    "lst2 = [0,1,2,3,4,5,6]\n",
    "list_sum = 0\n",
    "for i in lst2:\n",
    "    list_sum = list_sum + i\n",
    "list_sum\n",
    "    "
   ]
  },
  {
   "cell_type": "code",
   "execution_count": 7,
   "id": "b85861f3",
   "metadata": {},
   "outputs": [
    {
     "name": "stdout",
     "output_type": "stream",
     "text": [
      "21\n"
     ]
    }
   ],
   "source": [
    "lst_sum = 0\n",
    "for i in lst2:\n",
    "    lst_sum += i # list_sum = list_sum + i\n",
    "print(lst_sum)\n"
   ]
  },
  {
   "cell_type": "code",
   "execution_count": 8,
   "id": "da4df27d",
   "metadata": {},
   "outputs": [
    {
     "name": "stdout",
     "output_type": "stream",
     "text": [
      "Enter the value :5\n",
      "factorial is 120\n"
     ]
    }
   ],
   "source": [
    "#factorial \n",
    "# factorial 5 >> 5*4*3*2*1 = 120\n",
    "\n",
    "n = int(input(\"Enter the value :\"))\n",
    "if n== 0 or n==1:\n",
    "    print(1)\n",
    "fact = 1\n",
    "for i in range(2,n+1):\n",
    "    fact = fact *i\n",
    "print(\"factorial is\", fact)\n",
    "    \n",
    "| used for OR operation\n",
    "& used for AND operation"
   ]
  },
  {
   "cell_type": "code",
   "execution_count": 7,
   "id": "9473f37d",
   "metadata": {},
   "outputs": [
    {
     "name": "stdout",
     "output_type": "stream",
     "text": [
      "factorial of 6 is 720\n"
     ]
    }
   ],
   "source": [
    "#f string \n",
    "print(f\"factorial of {n} is {fact}\")"
   ]
  },
  {
   "cell_type": "code",
   "execution_count": null,
   "id": "35c98634",
   "metadata": {},
   "outputs": [],
   "source": [
    "* *\n",
    "* * *\n",
    "* * * *\n",
    "* * * * *\n"
   ]
  },
  {
   "cell_type": "code",
   "execution_count": 11,
   "id": "d1bca6d8",
   "metadata": {},
   "outputs": [
    {
     "name": "stdout",
     "output_type": "stream",
     "text": [
      "Enter the value :5\n",
      "* * \n",
      "* * * \n",
      "* * * * \n",
      "* * * * * \n"
     ]
    }
   ],
   "source": [
    "n = int(input(\"Enter the value :\"))\n",
    "\n",
    "for i in range(2,n+1):\n",
    "    print(\"* \" * i)\n",
    "    \n",
    "    "
   ]
  },
  {
   "cell_type": "code",
   "execution_count": null,
   "id": "6d14bd68",
   "metadata": {},
   "outputs": [],
   "source": []
  }
 ],
 "metadata": {
  "kernelspec": {
   "display_name": "Python 3 (ipykernel)",
   "language": "python",
   "name": "python3"
  },
  "language_info": {
   "codemirror_mode": {
    "name": "ipython",
    "version": 3
   },
   "file_extension": ".py",
   "mimetype": "text/x-python",
   "name": "python",
   "nbconvert_exporter": "python",
   "pygments_lexer": "ipython3",
   "version": "3.10.11"
  }
 },
 "nbformat": 4,
 "nbformat_minor": 5
}
